{
 "cells": [
  {
   "cell_type": "code",
   "execution_count": 1,
   "metadata": {
    "pycharm": {
     "name": "#%%\n"
    }
   },
   "outputs": [],
   "source": [
    "import sys\n",
    "from pprint import pprint"
   ]
  },
  {
   "cell_type": "code",
   "execution_count": 2,
   "metadata": {
    "pycharm": {
     "name": "#%%\n"
    }
   },
   "outputs": [],
   "source": [
    "class Utils:\n",
    "\n",
    "    @staticmethod\n",
    "    def get_input(message, trigger=True):\n",
    "        answer = input(\">>> \" + message)\n",
    "\n",
    "        if trigger and answer == \"exit\":\n",
    "            sys.exit(\"프로그램이 종료되었습니다.\")\n",
    "\n",
    "        return answer\n",
    "\n",
    "    @staticmethod\n",
    "    def fprint(title, message, format=True):\n",
    "\n",
    "        print(\"=\" * 50)\n",
    "        print(title.center(50 - len(title)))\n",
    "        print(\"=\" * 50)\n",
    "        if format:\n",
    "            pprint(message)\n",
    "        else:\n",
    "            print(message)\n",
    "        print(\"=\" * 50)"
   ]
  },
  {
   "cell_type": "code",
   "execution_count": 3,
   "metadata": {
    "pycharm": {
     "name": "#%%\n"
    }
   },
   "outputs": [],
   "source": [
    "class MovieKiosk:\n",
    "\n",
    "    def __init__(self):\n",
    "        self.__movie_data = [{\n",
    "                   \"title\": \"영화1\",\n",
    "                   \"running_time\": 120,\n",
    "                   \"start_time\": \"오후 1시 15분\",\n",
    "                   \"limited_age\": 12,\n",
    "                   \"genre\": \"Comedy\"\n",
    "               }, {\n",
    "                   \"title\": \"영화2\",\n",
    "                   \"running_time\": 70,\n",
    "                   \"start_time\": \"오후 1시 35분\",\n",
    "                   \"limited_age\": 19,\n",
    "                   \"genre\": \"Action\"\n",
    "               }, {\n",
    "                   \"title\": \"영화3\",\n",
    "                   \"running_time\": 80,\n",
    "                   \"start_time\": \"오후 2시 00분\",\n",
    "                   \"limited_age\": 0,\n",
    "                   \"genre\": \"Comedy\"\n",
    "               }]\n",
    "        self.user_movie_data = list()\n",
    "        self.custom_price_data = {\"adults\": 10000, \"kids\": 5000, \"elder\": 8000}\n",
    "\n",
    "    def check_validation(self, title):\n",
    "\n",
    "        for temp in self.__movie_data:\n",
    "            if temp[\"title\"] == title.strip():\n",
    "                return True, temp[\"limited_age\"]\n",
    "        return False, False\n",
    "\n",
    "    def set_price_and_count(self, total_price, people_count, type):\n",
    "\n",
    "        people_count[type] += 1\n",
    "        total_price += self.custom_price_data[type]\n",
    "\n",
    "        return total_price, people_count\n",
    "\n",
    "    def admin_mode(self):\n",
    "        self.__movie_data += self.user_movie_data\n",
    "        Utils.fprint(\"저정된 영화 정보\", self.__movie_data)\n",
    "\n",
    "        input_mode = Utils.get_input(\"입력을 원하시면 '입력'을 입력하십시오. \")\n",
    "        if input_mode == \"입력\":\n",
    "            input_movie = Utils.get_input(\"영화명, 상영시간, 시작시간, 관람제한연령, 영화장르 순으로 띄어쓰기로 구분하여 데이터를 입력하십시오. \")\n",
    "            input_movie = input_movie.strip().split(\" \")\n",
    "            temp_dict = {\n",
    "                \"title\": input_movie[0],\n",
    "                \"running_time\": int(input_movie[1]),\n",
    "                \"start_time\": input_movie[2],\n",
    "                \"limited_age\": int(input_movie[3]),\n",
    "                \"genre\": input_movie[4]\n",
    "            }\n",
    "            self.user_movie_data.append(temp_dict)\n",
    "            Utils.fprint(\"안내\", \"영화 {}이(가) 등록되었습니다.\".format(temp_dict[\"title\"]), False)\n",
    "        else:\n",
    "            Utils.fprint(\"안내\", \"잘못된 입력입니다. 처음부터 다시 시도하여 주세요.\", False)\n",
    "\n",
    "    def user_mode(self):\n",
    "        self.__movie_data += self.user_movie_data\n",
    "\n",
    "        Utils.fprint(\"상영중인 영화 정보\", self.__movie_data)\n",
    "        input_data = Utils.get_input(\"예매하실 영화의 이름을 입력하세요. \")\n",
    "        validation, limited_age = self.check_validation(input_data)\n",
    "\n",
    "        if validation:\n",
    "            input_age = Utils.get_input(\"모든 관람자의 나이를 입력하여 주시기 바랍니다. 띄어쓰기로 구분하십시오. \")\n",
    "            input_age = input_age.strip().split(\" \")\n",
    "\n",
    "            total_price = 0\n",
    "            people_count = {\"elder\": 0, 'kids': 0, 'adults': 0}\n",
    "\n",
    "            for age in input_age:\n",
    "                if age.isdigit():\n",
    "                    age = int(age)\n",
    "\n",
    "                    if age > limited_age:\n",
    "                        if age > 65:\n",
    "                            total_price, people_count = self.set_price_and_count(total_price, people_count, 'elder')\n",
    "                        elif age > 18:\n",
    "                            total_price, people_count = self.set_price_and_count(total_price, people_count, 'adults')\n",
    "                        else:\n",
    "                            total_price, people_count = self.set_price_and_count(total_price, people_count, 'kids')\n",
    "                    else:\n",
    "                        Utils.fprint(\"안내\", \"본 영화는 {}세 이상이 관람할 수 있습니다. {}세인 해당 인원을 제외합니다.\".format(limited_age, age), False)\n",
    "                        continue\n",
    "                else:\n",
    "                    Utils.fprint(\"안내\", \"잘못된 연령입니다. 처음부터 다시 시도하여 주세요.\", False)\n",
    "                    return\n",
    "\n",
    "            Utils.fprint(\"예매 안내\", \"총 {}명이며, 결제금액은 {}원입니다.\".format(sum(people_count.values()), total_price), False)\n",
    "            input_answer = Utils.get_input(\"예매하시겠습니까? 예매를 하시려면 'Y'또는 'y'를 입력하십시오. \")\n",
    "\n",
    "            if input_answer.upper() == \"Y\":\n",
    "                data = {\"영화명\": input_data,\n",
    "                        \"성인\": \"{}명\".format(people_count[\"adults\"]),\n",
    "                        \"경로\": \"{}명\".format(people_count[\"elder\"]),\n",
    "                        \"아동\": \"{}명\".format(people_count[\"kids\"]),\n",
    "                        \"총원\": \"{}명\".format(sum(people_count.values())),\n",
    "                        \"금액\": \"{}원\".format(total_price)\n",
    "                        }\n",
    "                Utils.fprint(\"예매 영수증\", data)\n",
    "            else:\n",
    "                Utils.fprint(\"안내\", \"취소되었습니다. 처음부터 다시 시도하여 주세요.\", False)\n",
    "                return\n",
    "        else:\n",
    "            Utils.fprint(\"안내\", \"잘못된 영화 이름입니다. 다시 확인하여 주세요.\", False)\n",
    "            return"
   ]
  },
  {
   "cell_type": "code",
   "execution_count": 4,
   "metadata": {
    "pycharm": {
     "name": "#%%\n"
    }
   },
   "outputs": [],
   "source": [
    "path = sys.argv\n",
    "\n",
    "kiosk = MovieKiosk()\n",
    "\n",
    "if len(path) > 1:\n",
    "    if len(path) == 2 and path[1] == \"admin\":\n",
    "        while True:\n",
    "            kiosk.admin_mode()\n",
    "else:\n",
    "    while True:\n",
    "        kiosk.user_mode()"
   ]
  }
 ],
 "metadata": {
  "kernelspec": {
   "display_name": "Python 3 (ipykernel)",
   "language": "python",
   "name": "python3"
  },
  "language_info": {
   "codemirror_mode": {
    "name": "ipython",
    "version": 3
   },
   "file_extension": ".py",
   "mimetype": "text/x-python",
   "name": "python",
   "nbconvert_exporter": "python",
   "pygments_lexer": "ipython3",
   "version": "3.10.6"
  }
 },
 "nbformat": 4,
 "nbformat_minor": 1
}